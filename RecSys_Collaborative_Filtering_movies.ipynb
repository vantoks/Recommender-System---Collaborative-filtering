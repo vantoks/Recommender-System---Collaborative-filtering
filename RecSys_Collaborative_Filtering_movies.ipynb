{
    "cells": [
        {
            "cell_type": "markdown",
            "metadata": {
                "button": false,
                "new_sheet": false,
                "run_control": {
                    "read_only": false
                }
            },
            "source": "# Data Collection"
        },
        {
            "cell_type": "markdown",
            "metadata": {
                "button": false,
                "new_sheet": false,
                "run_control": {
                    "read_only": false
                }
            },
            "source": "Dataset from [GroupLens](http://grouplens.org/datasets/movielens/?utm_medium=Exinfluencer&utm_source=Exinfluencer&utm_content=000026UJ&utm_term=10006555&utm_id=NA-SkillsNetwork-Channel-SkillsNetworkCoursesIBMDeveloperSkillsNetworkML0101ENSkillsNetwork20718538-2021-01-01)\\\nDownload the dataset using !wget from IBM Object Storage"
        },
        {
            "cell_type": "code",
            "execution_count": 29,
            "metadata": {
                "button": false,
                "new_sheet": false,
                "run_control": {
                    "read_only": false
                }
            },
            "outputs": [],
            "source": "#!wget -O moviedataset.zip https://cf-courses-data.s3.us.cloud-object-storage.appdomain.cloud/IBMDeveloperSkillsNetwork-ML0101EN-SkillsNetwork/labs/Module%205/data/moviedataset.zip\n#print('unziping ...')\n#!unzip -o -j moviedataset.zip "
        },
        {
            "cell_type": "markdown",
            "metadata": {
                "button": false,
                "new_sheet": false,
                "run_control": {
                    "read_only": false
                }
            },
            "source": "# Preprocessing"
        },
        {
            "cell_type": "code",
            "execution_count": 2,
            "metadata": {
                "button": false,
                "new_sheet": false,
                "run_control": {
                    "read_only": false
                }
            },
            "outputs": [],
            "source": "import pandas as pd\nfrom math import sqrt\nimport numpy as np\nimport matplotlib.pyplot as plt\n%matplotlib inline"
        },
        {
            "cell_type": "code",
            "execution_count": 3,
            "metadata": {
                "button": false,
                "new_sheet": false,
                "run_control": {
                    "read_only": false
                }
            },
            "outputs": [],
            "source": "#Movie info\nmovdf = pd.read_csv('movies.csv')\n#User info\nrdf = pd.read_csv('ratings.csv')"
        },
        {
            "cell_type": "markdown",
            "metadata": {},
            "source": "## Movie Dataframe"
        },
        {
            "cell_type": "code",
            "execution_count": 4,
            "metadata": {
                "button": false,
                "new_sheet": false,
                "run_control": {
                    "read_only": false
                },
                "scrolled": true
            },
            "outputs": [
                {
                    "data": {
                        "text/html": "<div>\n<style scoped>\n    .dataframe tbody tr th:only-of-type {\n        vertical-align: middle;\n    }\n\n    .dataframe tbody tr th {\n        vertical-align: top;\n    }\n\n    .dataframe thead th {\n        text-align: right;\n    }\n</style>\n<table border=\"1\" class=\"dataframe\">\n  <thead>\n    <tr style=\"text-align: right;\">\n      <th></th>\n      <th>movieId</th>\n      <th>title</th>\n      <th>genres</th>\n    </tr>\n  </thead>\n  <tbody>\n    <tr>\n      <th>0</th>\n      <td>1</td>\n      <td>Toy Story (1995)</td>\n      <td>Adventure|Animation|Children|Comedy|Fantasy</td>\n    </tr>\n    <tr>\n      <th>1</th>\n      <td>2</td>\n      <td>Jumanji (1995)</td>\n      <td>Adventure|Children|Fantasy</td>\n    </tr>\n    <tr>\n      <th>2</th>\n      <td>3</td>\n      <td>Grumpier Old Men (1995)</td>\n      <td>Comedy|Romance</td>\n    </tr>\n    <tr>\n      <th>3</th>\n      <td>4</td>\n      <td>Waiting to Exhale (1995)</td>\n      <td>Comedy|Drama|Romance</td>\n    </tr>\n    <tr>\n      <th>4</th>\n      <td>5</td>\n      <td>Father of the Bride Part II (1995)</td>\n      <td>Comedy</td>\n    </tr>\n  </tbody>\n</table>\n</div>",
                        "text/plain": "   movieId                               title  \\\n0        1                    Toy Story (1995)   \n1        2                      Jumanji (1995)   \n2        3             Grumpier Old Men (1995)   \n3        4            Waiting to Exhale (1995)   \n4        5  Father of the Bride Part II (1995)   \n\n                                        genres  \n0  Adventure|Animation|Children|Comedy|Fantasy  \n1                   Adventure|Children|Fantasy  \n2                               Comedy|Romance  \n3                         Comedy|Drama|Romance  \n4                                       Comedy  "
                    },
                    "execution_count": 4,
                    "metadata": {},
                    "output_type": "execute_result"
                }
            ],
            "source": "movdf.head()"
        },
        {
            "cell_type": "markdown",
            "metadata": {
                "button": false,
                "new_sheet": false,
                "run_control": {
                    "read_only": false
                }
            },
            "source": "Each movie has a unique ID, a title with its release year along with it and different genres compiled in the same field"
        },
        {
            "cell_type": "code",
            "execution_count": 5,
            "metadata": {
                "button": false,
                "new_sheet": false,
                "run_control": {
                    "read_only": false
                }
            },
            "outputs": [
                {
                    "name": "stderr",
                    "output_type": "stream",
                    "text": "<ipython-input-5-c9645066499d>:7: FutureWarning: The default value of regex will change from True to False in a future version.\n  movdf['title'] = movdf.title.str.replace('(\\(\\d\\d\\d\\d\\))', '')\n"
                }
            ],
            "source": "#Separating title from its release year\n#Create a column 'year' by extracting parenthesis that contain 4 digits\nmovdf['year'] = movdf.title.str.extract('(\\(\\d\\d\\d\\d\\))',expand=False)  #Parantheses to avoid conflict with movies that have years in their titles\n#Removing the parentheses from col 'Year'\nmovdf['year'] = movdf.year.str.extract('(\\d\\d\\d\\d)',expand=False)\n#Removing the years from the 'title' column by replacing the format (parenthesis with 4 digits inside) with empty space\nmovdf['title'] = movdf.title.str.replace('(\\(\\d\\d\\d\\d\\))', '')\n#Applying the strip function to get rid of any ending whitespace characters that may have appeared\nmovdf['title'] = movdf['title'].apply(lambda x: x.strip())"
        },
        {
            "cell_type": "code",
            "execution_count": 6,
            "metadata": {
                "button": false,
                "new_sheet": false,
                "run_control": {
                    "read_only": false
                }
            },
            "outputs": [],
            "source": "#Dropping the genres column\nmovdf = movdf.drop('genres', 1)"
        },
        {
            "cell_type": "code",
            "execution_count": 7,
            "metadata": {
                "button": false,
                "new_sheet": false,
                "run_control": {
                    "read_only": false
                }
            },
            "outputs": [
                {
                    "data": {
                        "text/html": "<div>\n<style scoped>\n    .dataframe tbody tr th:only-of-type {\n        vertical-align: middle;\n    }\n\n    .dataframe tbody tr th {\n        vertical-align: top;\n    }\n\n    .dataframe thead th {\n        text-align: right;\n    }\n</style>\n<table border=\"1\" class=\"dataframe\">\n  <thead>\n    <tr style=\"text-align: right;\">\n      <th></th>\n      <th>movieId</th>\n      <th>title</th>\n      <th>year</th>\n    </tr>\n  </thead>\n  <tbody>\n    <tr>\n      <th>0</th>\n      <td>1</td>\n      <td>Toy Story</td>\n      <td>1995</td>\n    </tr>\n    <tr>\n      <th>1</th>\n      <td>2</td>\n      <td>Jumanji</td>\n      <td>1995</td>\n    </tr>\n    <tr>\n      <th>2</th>\n      <td>3</td>\n      <td>Grumpier Old Men</td>\n      <td>1995</td>\n    </tr>\n    <tr>\n      <th>3</th>\n      <td>4</td>\n      <td>Waiting to Exhale</td>\n      <td>1995</td>\n    </tr>\n    <tr>\n      <th>4</th>\n      <td>5</td>\n      <td>Father of the Bride Part II</td>\n      <td>1995</td>\n    </tr>\n  </tbody>\n</table>\n</div>",
                        "text/plain": "   movieId                        title  year\n0        1                    Toy Story  1995\n1        2                      Jumanji  1995\n2        3             Grumpier Old Men  1995\n3        4            Waiting to Exhale  1995\n4        5  Father of the Bride Part II  1995"
                    },
                    "execution_count": 7,
                    "metadata": {},
                    "output_type": "execute_result"
                }
            ],
            "source": "movdf.head()"
        },
        {
            "cell_type": "markdown",
            "metadata": {
                "button": false,
                "new_sheet": false,
                "run_control": {
                    "read_only": false
                }
            },
            "source": "## Ratings dataframe"
        },
        {
            "cell_type": "code",
            "execution_count": 8,
            "metadata": {
                "button": false,
                "new_sheet": false,
                "run_control": {
                    "read_only": false
                }
            },
            "outputs": [
                {
                    "data": {
                        "text/html": "<div>\n<style scoped>\n    .dataframe tbody tr th:only-of-type {\n        vertical-align: middle;\n    }\n\n    .dataframe tbody tr th {\n        vertical-align: top;\n    }\n\n    .dataframe thead th {\n        text-align: right;\n    }\n</style>\n<table border=\"1\" class=\"dataframe\">\n  <thead>\n    <tr style=\"text-align: right;\">\n      <th></th>\n      <th>userId</th>\n      <th>movieId</th>\n      <th>rating</th>\n      <th>timestamp</th>\n    </tr>\n  </thead>\n  <tbody>\n    <tr>\n      <th>0</th>\n      <td>1</td>\n      <td>169</td>\n      <td>2.5</td>\n      <td>1204927694</td>\n    </tr>\n    <tr>\n      <th>1</th>\n      <td>1</td>\n      <td>2471</td>\n      <td>3.0</td>\n      <td>1204927438</td>\n    </tr>\n    <tr>\n      <th>2</th>\n      <td>1</td>\n      <td>48516</td>\n      <td>5.0</td>\n      <td>1204927435</td>\n    </tr>\n    <tr>\n      <th>3</th>\n      <td>2</td>\n      <td>2571</td>\n      <td>3.5</td>\n      <td>1436165433</td>\n    </tr>\n    <tr>\n      <th>4</th>\n      <td>2</td>\n      <td>109487</td>\n      <td>4.0</td>\n      <td>1436165496</td>\n    </tr>\n  </tbody>\n</table>\n</div>",
                        "text/plain": "   userId  movieId  rating   timestamp\n0       1      169     2.5  1204927694\n1       1     2471     3.0  1204927438\n2       1    48516     5.0  1204927435\n3       2     2571     3.5  1436165433\n4       2   109487     4.0  1436165496"
                    },
                    "execution_count": 8,
                    "metadata": {},
                    "output_type": "execute_result"
                }
            ],
            "source": "rdf.head()"
        },
        {
            "cell_type": "markdown",
            "metadata": {
                "button": false,
                "new_sheet": false,
                "run_control": {
                    "read_only": false
                }
            },
            "source": "Each observation consists if a user id associated with at least one movie, a rating and a timestamp showing when they reviewed it. I don't need the timestamp col."
        },
        {
            "cell_type": "code",
            "execution_count": 9,
            "metadata": {
                "button": false,
                "new_sheet": false,
                "run_control": {
                    "read_only": false
                }
            },
            "outputs": [
                {
                    "data": {
                        "text/html": "<div>\n<style scoped>\n    .dataframe tbody tr th:only-of-type {\n        vertical-align: middle;\n    }\n\n    .dataframe tbody tr th {\n        vertical-align: top;\n    }\n\n    .dataframe thead th {\n        text-align: right;\n    }\n</style>\n<table border=\"1\" class=\"dataframe\">\n  <thead>\n    <tr style=\"text-align: right;\">\n      <th></th>\n      <th>userId</th>\n      <th>movieId</th>\n      <th>rating</th>\n    </tr>\n  </thead>\n  <tbody>\n    <tr>\n      <th>0</th>\n      <td>1</td>\n      <td>169</td>\n      <td>2.5</td>\n    </tr>\n    <tr>\n      <th>1</th>\n      <td>1</td>\n      <td>2471</td>\n      <td>3.0</td>\n    </tr>\n    <tr>\n      <th>2</th>\n      <td>1</td>\n      <td>48516</td>\n      <td>5.0</td>\n    </tr>\n    <tr>\n      <th>3</th>\n      <td>2</td>\n      <td>2571</td>\n      <td>3.5</td>\n    </tr>\n    <tr>\n      <th>4</th>\n      <td>2</td>\n      <td>109487</td>\n      <td>4.0</td>\n    </tr>\n  </tbody>\n</table>\n</div>",
                        "text/plain": "   userId  movieId  rating\n0       1      169     2.5\n1       1     2471     3.0\n2       1    48516     5.0\n3       2     2571     3.5\n4       2   109487     4.0"
                    },
                    "execution_count": 9,
                    "metadata": {},
                    "output_type": "execute_result"
                }
            ],
            "source": "rdf = rdf.drop('timestamp', 1)\nrdf.head()"
        },
        {
            "cell_type": "markdown",
            "metadata": {
                "button": false,
                "new_sheet": false,
                "run_control": {
                    "read_only": false
                }
            },
            "source": "# Collaborative Filtering"
        },
        {
            "cell_type": "markdown",
            "metadata": {},
            "source": "## Input Movies dataframe"
        },
        {
            "cell_type": "code",
            "execution_count": 10,
            "metadata": {
                "button": false,
                "new_sheet": false,
                "run_control": {
                    "read_only": false
                }
            },
            "outputs": [
                {
                    "data": {
                        "text/html": "<div>\n<style scoped>\n    .dataframe tbody tr th:only-of-type {\n        vertical-align: middle;\n    }\n\n    .dataframe tbody tr th {\n        vertical-align: top;\n    }\n\n    .dataframe thead th {\n        text-align: right;\n    }\n</style>\n<table border=\"1\" class=\"dataframe\">\n  <thead>\n    <tr style=\"text-align: right;\">\n      <th></th>\n      <th>title</th>\n      <th>rating</th>\n    </tr>\n  </thead>\n  <tbody>\n    <tr>\n      <th>0</th>\n      <td>Jumanji</td>\n      <td>2.0</td>\n    </tr>\n    <tr>\n      <th>1</th>\n      <td>Toy Story</td>\n      <td>6.5</td>\n    </tr>\n    <tr>\n      <th>2</th>\n      <td>Mulan</td>\n      <td>4.0</td>\n    </tr>\n    <tr>\n      <th>3</th>\n      <td>Cruella</td>\n      <td>8.9</td>\n    </tr>\n    <tr>\n      <th>4</th>\n      <td>Pulp Fiction</td>\n      <td>7.5</td>\n    </tr>\n  </tbody>\n</table>\n</div>",
                        "text/plain": "          title  rating\n0       Jumanji     2.0\n1     Toy Story     6.5\n2         Mulan     4.0\n3       Cruella     8.9\n4  Pulp Fiction     7.5"
                    },
                    "execution_count": 10,
                    "metadata": {},
                    "output_type": "execute_result"
                }
            ],
            "source": "#Creating an input user to recommend movies to\nVanInput = [\n            {'title':'Jumanji','rating':2},\n            {'title':'Toy Story', 'rating':6.5},\n            {'title':'Mulan', 'rating':4},\n            {'title':\"Cruella\", 'rating':8.9},\n            {'title':'Pulp Fiction', 'rating':7.5}\n         ] \ninp_mov = pd.DataFrame(VanInput)\ninp_mov"
        },
        {
            "cell_type": "markdown",
            "metadata": {
                "button": false,
                "new_sheet": false,
                "run_control": {
                    "read_only": false
                }
            },
            "source": "Bring the input movies's id's from the movies df"
        },
        {
            "cell_type": "code",
            "execution_count": 11,
            "metadata": {
                "button": false,
                "new_sheet": false,
                "run_control": {
                    "read_only": false
                },
                "scrolled": true
            },
            "outputs": [
                {
                    "data": {
                        "text/html": "<div>\n<style scoped>\n    .dataframe tbody tr th:only-of-type {\n        vertical-align: middle;\n    }\n\n    .dataframe tbody tr th {\n        vertical-align: top;\n    }\n\n    .dataframe thead th {\n        text-align: right;\n    }\n</style>\n<table border=\"1\" class=\"dataframe\">\n  <thead>\n    <tr style=\"text-align: right;\">\n      <th></th>\n      <th>movieId</th>\n      <th>title</th>\n      <th>rating</th>\n    </tr>\n  </thead>\n  <tbody>\n    <tr>\n      <th>0</th>\n      <td>1</td>\n      <td>Toy Story</td>\n      <td>6.5</td>\n    </tr>\n    <tr>\n      <th>1</th>\n      <td>2</td>\n      <td>Jumanji</td>\n      <td>2.0</td>\n    </tr>\n    <tr>\n      <th>2</th>\n      <td>296</td>\n      <td>Pulp Fiction</td>\n      <td>7.5</td>\n    </tr>\n    <tr>\n      <th>3</th>\n      <td>1907</td>\n      <td>Mulan</td>\n      <td>4.0</td>\n    </tr>\n    <tr>\n      <th>4</th>\n      <td>90620</td>\n      <td>Mulan</td>\n      <td>4.0</td>\n    </tr>\n  </tbody>\n</table>\n</div>",
                        "text/plain": "   movieId         title  rating\n0        1     Toy Story     6.5\n1        2       Jumanji     2.0\n2      296  Pulp Fiction     7.5\n3     1907         Mulan     4.0\n4    90620         Mulan     4.0"
                    },
                    "execution_count": 11,
                    "metadata": {},
                    "output_type": "execute_result"
                }
            ],
            "source": "#Create a table inputId (based on moves table) that contains only matches with the inp_mov df\ninputId = movdf[movdf['title'].isin(inp_mov['title'].tolist())]\n#Implicitly merging the filtered df with inp_mov by title to bring the 'ratings' col\ninp_mov = pd.merge(inputId, inp_mov)\n#Dropping excess caol\ninp_mov = inp_mov.drop('year', 1)\n#P.S.:Not all user input movies are in the original dataframe\ninp_mov"
        },
        {
            "cell_type": "markdown",
            "metadata": {},
            "source": "## Users Subset dataframe"
        },
        {
            "cell_type": "markdown",
            "metadata": {
                "button": false,
                "new_sheet": false,
                "run_control": {
                    "read_only": false
                }
            },
            "source": "Get subset of users that have watched and reviewed the movies inputed (by id)"
        },
        {
            "cell_type": "code",
            "execution_count": 12,
            "metadata": {
                "button": false,
                "new_sheet": false,
                "run_control": {
                    "read_only": false
                }
            },
            "outputs": [
                {
                    "data": {
                        "text/html": "<div>\n<style scoped>\n    .dataframe tbody tr th:only-of-type {\n        vertical-align: middle;\n    }\n\n    .dataframe tbody tr th {\n        vertical-align: top;\n    }\n\n    .dataframe thead th {\n        text-align: right;\n    }\n</style>\n<table border=\"1\" class=\"dataframe\">\n  <thead>\n    <tr style=\"text-align: right;\">\n      <th></th>\n      <th>userId</th>\n      <th>movieId</th>\n      <th>rating</th>\n    </tr>\n  </thead>\n  <tbody>\n    <tr>\n      <th>19</th>\n      <td>4</td>\n      <td>296</td>\n      <td>4.0</td>\n    </tr>\n    <tr>\n      <th>479</th>\n      <td>13</td>\n      <td>2</td>\n      <td>2.0</td>\n    </tr>\n    <tr>\n      <th>681</th>\n      <td>14</td>\n      <td>296</td>\n      <td>2.0</td>\n    </tr>\n    <tr>\n      <th>749</th>\n      <td>15</td>\n      <td>1</td>\n      <td>4.0</td>\n    </tr>\n    <tr>\n      <th>776</th>\n      <td>15</td>\n      <td>296</td>\n      <td>3.0</td>\n    </tr>\n  </tbody>\n</table>\n</div>",
                        "text/plain": "     userId  movieId  rating\n19        4      296     4.0\n479      13        2     2.0\n681      14      296     2.0\n749      15        1     4.0\n776      15      296     3.0"
                    },
                    "execution_count": 12,
                    "metadata": {},
                    "output_type": "execute_result"
                }
            ],
            "source": "#Filtering out users that have watched movies that the input has watched\nuserSubset = rdf[rdf['movieId'].isin(inp_mov['movieId'].tolist())]\nuserSubset.head()"
        },
        {
            "cell_type": "code",
            "execution_count": 13,
            "metadata": {
                "button": false,
                "new_sheet": false,
                "run_control": {
                    "read_only": false
                }
            },
            "outputs": [],
            "source": "#Groupby creates several sub dataframes where they all have the same value in the column specified as the parameter\nusg = userSubset.groupby(['userId'])"
        },
        {
            "cell_type": "code",
            "execution_count": 14,
            "metadata": {
                "button": false,
                "new_sheet": false,
                "run_control": {
                    "read_only": false
                }
            },
            "outputs": [
                {
                    "data": {
                        "text/html": "<div>\n<style scoped>\n    .dataframe tbody tr th:only-of-type {\n        vertical-align: middle;\n    }\n\n    .dataframe tbody tr th {\n        vertical-align: top;\n    }\n\n    .dataframe thead th {\n        text-align: right;\n    }\n</style>\n<table border=\"1\" class=\"dataframe\">\n  <thead>\n    <tr style=\"text-align: right;\">\n      <th></th>\n      <th>userId</th>\n      <th>movieId</th>\n      <th>rating</th>\n    </tr>\n  </thead>\n  <tbody>\n    <tr>\n      <th>1247</th>\n      <td>17</td>\n      <td>1</td>\n      <td>5.0</td>\n    </tr>\n    <tr>\n      <th>1248</th>\n      <td>17</td>\n      <td>2</td>\n      <td>3.0</td>\n    </tr>\n    <tr>\n      <th>1333</th>\n      <td>17</td>\n      <td>296</td>\n      <td>2.0</td>\n    </tr>\n    <tr>\n      <th>1822</th>\n      <td>17</td>\n      <td>1907</td>\n      <td>3.0</td>\n    </tr>\n  </tbody>\n</table>\n</div>",
                        "text/plain": "      userId  movieId  rating\n1247      17        1     5.0\n1248      17        2     3.0\n1333      17      296     2.0\n1822      17     1907     3.0"
                    },
                    "execution_count": 14,
                    "metadata": {},
                    "output_type": "execute_result"
                }
            ],
            "source": "#Ex: Checking on id 17\nusg.get_group(17)"
        },
        {
            "cell_type": "code",
            "execution_count": 15,
            "metadata": {
                "button": false,
                "new_sheet": false,
                "run_control": {
                    "read_only": false
                }
            },
            "outputs": [],
            "source": "#Sort groups so the users that share the most movies in common with the input have higher priority\n#This provides a richer recommendation since I won't go through every single user.\nusg = sorted(usg,  key=lambda x: len(x[1]), reverse=True)"
        },
        {
            "cell_type": "code",
            "execution_count": 16,
            "metadata": {
                "button": false,
                "new_sheet": false,
                "run_control": {
                    "read_only": false
                }
            },
            "outputs": [
                {
                    "data": {
                        "text/plain": "[(1040,\n         userId  movieId  rating\n  96689    1040        1     3.0\n  96690    1040        2     1.5\n  96733    1040      296     3.5\n  96915    1040     1907     4.5\n  97499    1040    90620     3.5)]"
                    },
                    "execution_count": 16,
                    "metadata": {},
                    "output_type": "execute_result"
                }
            ],
            "source": "usg[:1]"
        },
        {
            "cell_type": "markdown",
            "metadata": {
                "button": false,
                "new_sheet": false,
                "run_control": {
                    "read_only": false
                }
            },
            "source": "I will select a subset of users to iterate through \\\nThis limit is imposed to avoid wasting too much time going through every single user"
        },
        {
            "cell_type": "code",
            "execution_count": 17,
            "metadata": {
                "button": false,
                "new_sheet": false,
                "run_control": {
                    "read_only": false
                }
            },
            "outputs": [],
            "source": "usg = usg[0:100]"
        },
        {
            "cell_type": "markdown",
            "metadata": {
                "button": false,
                "new_sheet": false,
                "run_control": {
                    "read_only": false
                }
            },
            "source": "## Pearson Corr"
        },
        {
            "cell_type": "code",
            "execution_count": 18,
            "metadata": {
                "button": false,
                "new_sheet": false,
                "run_control": {
                    "read_only": false
                },
                "scrolled": true
            },
            "outputs": [],
            "source": "#Pearson Correlation between Input User and Subset Group, and store it in a dictionary, where the key is the user id and the value is the coefficient\npearsonCorrelationDict = {}\n\n#For every user group in our subset\nfor i, group in usg:\n    #Sorting the input and current user group so the values aren't mixed up later on\n    group = group.sort_values(by='movieId')\n    inp_mov = inp_mov.sort_values(by='movieId')\n    #Get the N for the formula\n    nRatings = len(group)\n    #Get the review scores for the movies that they both have in common\n    temp_df = inp_mov[inp_mov['movieId'].isin(group['movieId'].tolist())]\n    #Store them in a temporary buffer variable in a list format to facilitate future calculations\n    tempRatingList = temp_df['rating'].tolist()\n    #Let's also put the current user group reviews in a list format\n    tempGroupList = group['rating'].tolist()\n    #Now let's calculate the pearson correlation between two users, so called, x and y\n    Sxx = sum([i**2 for i in tempRatingList]) - pow(sum(tempRatingList),2)/float(nRatings)\n    Syy = sum([i**2 for i in tempGroupList]) - pow(sum(tempGroupList),2)/float(nRatings)\n    Sxy = sum( i*j for i, j in zip(tempRatingList, tempGroupList)) - sum(tempRatingList)*sum(tempGroupList)/float(nRatings)\n    \n    #If the denominator is different than zero, then divide, else, 0 correlation.\n    if Sxx != 0 and Syy != 0:\n        pearsonCorrelationDict[i] = Sxy/sqrt(Sxx*Syy)\n    else:\n        pearsonCorrelationDict[i] = 0"
        },
        {
            "cell_type": "code",
            "execution_count": 19,
            "metadata": {},
            "outputs": [
                {
                    "data": {
                        "text/plain": "dict_items([(1040, 0.41039099474342067), (13493, 0.7018203569799772), (53030, 0.43048326528833586), (63572, 0.38968659876683565), (109213, 0.7480544714310469), (132030, 0.40524829064032775), (155986, -0.4262762762934024), (178786, 0.7579643954569074), (198941, 0.7954873853310125), (227112, 0.5853345883431811), (228452, 0.6626870906293719), (236434, 0.7125812379830004), (17, 0.053338074706266496), (114, 0.7397954428741078), (222, -0.2684624220856097), (241, -0.1513415349215006), (277, 0.8053872662568292), (340, 0.9299811099505543), (393, 0.7710996009560598), (407, 0.9009861607017401), (479, -0.8790079680805661), (670, 0.7009996372327816), (683, 0.8000711205939974), (815, 0.8740200053736314), (904, 0.3449417900125087), (1130, -0.11624763874381927), (1204, 0.9299811099505543), (1348, 0.0), (1414, 0.9441196694198674), (1599, 0.6711560552140243), (1607, -0.1643989873053573), (1615, 0.2684624220856097), (1621, 0.34874291623145787), (1629, 0.9867967802605516), (1643, 0.5607997097862253), (1675, 0.4322876205405226), (1824, 0.8464521174109155), (1848, -0.28039985489311264), (1858, -0.9112995284026161), (1945, 0.9299811099505543), (1950, 0.9299811099505543), (2128, -0.14237369936287486), (2153, 0.39067020803580715), (2204, 0.8053872662568292), (2397, 0.34874291623145787), (2404, 0.8060323502739513), (2429, -0.5908354395974247), (2452, 0.8418791389638738), (2463, 0.9396184772996341), (2596, 0.9431729902702312), (2711, 0.9112995284026161), (2726, 0.9299811099505543), (2791, 0.949157995752499), (2814, -0.37336652294386546), (2961, 0.3287979746107146), (2999, 0.8850524281415084), (3358, -0.6185611627233614), (3388, 0.9863939238321437), (3429, 0.11624763874381928), (3734, -0.37336652294386546), (3817, 0.9299811099505543), (3845, 0.8000711205939974), (4208, 0.28039985489311264), (4280, 0.37336652294386546), (4328, 0.5607997097862253), (4415, 0.8454968154078789), (4586, -0.5369248441712194), (4725, 0.11624763874381928), (4975, -0.11624763874381928), (5040, -0.2684624220856097), (5131, 0.6742363047141517), (5137, 0.053338074706266496), (5165, -0.48004267235639847), (5336, 0.9112995284026161), (5547, 0.9112995284026161), (5576, 0.9112995284026161), (5735, 0.6711560552140243), (5856, -0.34874291623145787), (6127, -0.4271210980886246), (6157, 0.9672388203287415), (6366, 0.46499055497527714), (6420, 0.7798128673650546), (6530, 0.07009996372327816), (6581, 0.8534091953002639), (6606, 0.9299811099505543), (6791, 0.7445591459448888), (6952, 0.41099746826339323), (7040, 0.7710996009560598), (7141, 0.9041944301794651), (7528, 0.8937810952201274), (7598, 0.37336652294386546), (7641, 0.3287979746107146), (7721, 0.8053872662568292), (7757, 0.727825342874051), (7996, 0.6169526972391244), (8008, 0.7009996372327816), (8039, 0.053338074706266496), (8190, 0.6659027536546026), (8217, 0), (8303, 0.7362592088703156)])"
                    },
                    "execution_count": 19,
                    "metadata": {},
                    "output_type": "execute_result"
                }
            ],
            "source": "pearsonCorrelationDict.items()"
        },
        {
            "cell_type": "code",
            "execution_count": 20,
            "metadata": {},
            "outputs": [
                {
                    "data": {
                        "text/html": "<div>\n<style scoped>\n    .dataframe tbody tr th:only-of-type {\n        vertical-align: middle;\n    }\n\n    .dataframe tbody tr th {\n        vertical-align: top;\n    }\n\n    .dataframe thead th {\n        text-align: right;\n    }\n</style>\n<table border=\"1\" class=\"dataframe\">\n  <thead>\n    <tr style=\"text-align: right;\">\n      <th></th>\n      <th>similarityIndex</th>\n      <th>userId</th>\n    </tr>\n  </thead>\n  <tbody>\n    <tr>\n      <th>0</th>\n      <td>0.410391</td>\n      <td>1040</td>\n    </tr>\n    <tr>\n      <th>1</th>\n      <td>0.701820</td>\n      <td>13493</td>\n    </tr>\n    <tr>\n      <th>2</th>\n      <td>0.430483</td>\n      <td>53030</td>\n    </tr>\n    <tr>\n      <th>3</th>\n      <td>0.389687</td>\n      <td>63572</td>\n    </tr>\n    <tr>\n      <th>4</th>\n      <td>0.748054</td>\n      <td>109213</td>\n    </tr>\n  </tbody>\n</table>\n</div>",
                        "text/plain": "   similarityIndex  userId\n0         0.410391    1040\n1         0.701820   13493\n2         0.430483   53030\n3         0.389687   63572\n4         0.748054  109213"
                    },
                    "execution_count": 20,
                    "metadata": {},
                    "output_type": "execute_result"
                }
            ],
            "source": "per = pd.DataFrame.from_dict(pearsonCorrelationDict, orient='index')\nper.columns = ['similarityIndex']\nper['userId'] = per.index\nper.index = range(len(per))\nper.head()"
        },
        {
            "cell_type": "code",
            "execution_count": 21,
            "metadata": {
                "button": false,
                "new_sheet": false,
                "run_control": {
                    "read_only": false
                }
            },
            "outputs": [
                {
                    "data": {
                        "text/html": "<div>\n<style scoped>\n    .dataframe tbody tr th:only-of-type {\n        vertical-align: middle;\n    }\n\n    .dataframe tbody tr th {\n        vertical-align: top;\n    }\n\n    .dataframe thead th {\n        text-align: right;\n    }\n</style>\n<table border=\"1\" class=\"dataframe\">\n  <thead>\n    <tr style=\"text-align: right;\">\n      <th></th>\n      <th>similarityIndex</th>\n      <th>userId</th>\n    </tr>\n  </thead>\n  <tbody>\n    <tr>\n      <th>33</th>\n      <td>0.986797</td>\n      <td>1629</td>\n    </tr>\n    <tr>\n      <th>57</th>\n      <td>0.986394</td>\n      <td>3388</td>\n    </tr>\n    <tr>\n      <th>79</th>\n      <td>0.967239</td>\n      <td>6157</td>\n    </tr>\n    <tr>\n      <th>52</th>\n      <td>0.949158</td>\n      <td>2791</td>\n    </tr>\n    <tr>\n      <th>28</th>\n      <td>0.944120</td>\n      <td>1414</td>\n    </tr>\n  </tbody>\n</table>\n</div>",
                        "text/plain": "    similarityIndex  userId\n33         0.986797    1629\n57         0.986394    3388\n79         0.967239    6157\n52         0.949158    2791\n28         0.944120    1414"
                    },
                    "execution_count": 21,
                    "metadata": {},
                    "output_type": "execute_result"
                }
            ],
            "source": "#Top 50 users most similar to the input\ntopUsers=per.sort_values(by='similarityIndex', ascending=False)[0:50]\ntopUsers.head()"
        },
        {
            "cell_type": "code",
            "execution_count": 22,
            "metadata": {
                "button": false,
                "new_sheet": false,
                "run_control": {
                    "read_only": false
                },
                "scrolled": true
            },
            "outputs": [
                {
                    "data": {
                        "text/html": "<div>\n<style scoped>\n    .dataframe tbody tr th:only-of-type {\n        vertical-align: middle;\n    }\n\n    .dataframe tbody tr th {\n        vertical-align: top;\n    }\n\n    .dataframe thead th {\n        text-align: right;\n    }\n</style>\n<table border=\"1\" class=\"dataframe\">\n  <thead>\n    <tr style=\"text-align: right;\">\n      <th></th>\n      <th>similarityIndex</th>\n      <th>userId</th>\n      <th>movieId</th>\n      <th>rating</th>\n    </tr>\n  </thead>\n  <tbody>\n    <tr>\n      <th>0</th>\n      <td>0.986797</td>\n      <td>1629</td>\n      <td>1</td>\n      <td>4.5</td>\n    </tr>\n    <tr>\n      <th>1</th>\n      <td>0.986797</td>\n      <td>1629</td>\n      <td>2</td>\n      <td>2.5</td>\n    </tr>\n    <tr>\n      <th>2</th>\n      <td>0.986797</td>\n      <td>1629</td>\n      <td>3</td>\n      <td>2.5</td>\n    </tr>\n    <tr>\n      <th>3</th>\n      <td>0.986797</td>\n      <td>1629</td>\n      <td>5</td>\n      <td>2.5</td>\n    </tr>\n    <tr>\n      <th>4</th>\n      <td>0.986797</td>\n      <td>1629</td>\n      <td>6</td>\n      <td>3.5</td>\n    </tr>\n  </tbody>\n</table>\n</div>",
                        "text/plain": "   similarityIndex  userId  movieId  rating\n0         0.986797    1629        1     4.5\n1         0.986797    1629        2     2.5\n2         0.986797    1629        3     2.5\n3         0.986797    1629        5     2.5\n4         0.986797    1629        6     3.5"
                    },
                    "execution_count": 22,
                    "metadata": {},
                    "output_type": "execute_result"
                }
            ],
            "source": "#Get the movies watched by the users in per from the ratings df and then store their correlation in a new column\ntop_rat=topUsers.merge(rdf, left_on='userId', right_on='userId', how='inner')\ntop_rat.head()"
        },
        {
            "cell_type": "markdown",
            "metadata": {
                "button": false,
                "new_sheet": false,
                "run_control": {
                    "read_only": false
                }
            },
            "source": "Multiply the movie rating by its weight (similarity index), then sum up the new ratings and divide it by the sum of the weights\\\nMultiplying two columns, then grouping up the dataframe by movieId and then dividing two columns:\\\nIt shows the idea of all similar users to candidate movies for the input user:"
        },
        {
            "cell_type": "code",
            "execution_count": 23,
            "metadata": {
                "button": false,
                "new_sheet": false,
                "run_control": {
                    "read_only": false
                }
            },
            "outputs": [
                {
                    "data": {
                        "text/html": "<div>\n<style scoped>\n    .dataframe tbody tr th:only-of-type {\n        vertical-align: middle;\n    }\n\n    .dataframe tbody tr th {\n        vertical-align: top;\n    }\n\n    .dataframe thead th {\n        text-align: right;\n    }\n</style>\n<table border=\"1\" class=\"dataframe\">\n  <thead>\n    <tr style=\"text-align: right;\">\n      <th></th>\n      <th>similarityIndex</th>\n      <th>userId</th>\n      <th>movieId</th>\n      <th>rating</th>\n      <th>weightedRating</th>\n    </tr>\n  </thead>\n  <tbody>\n    <tr>\n      <th>0</th>\n      <td>0.986797</td>\n      <td>1629</td>\n      <td>1</td>\n      <td>4.5</td>\n      <td>4.440586</td>\n    </tr>\n    <tr>\n      <th>1</th>\n      <td>0.986797</td>\n      <td>1629</td>\n      <td>2</td>\n      <td>2.5</td>\n      <td>2.466992</td>\n    </tr>\n    <tr>\n      <th>2</th>\n      <td>0.986797</td>\n      <td>1629</td>\n      <td>3</td>\n      <td>2.5</td>\n      <td>2.466992</td>\n    </tr>\n    <tr>\n      <th>3</th>\n      <td>0.986797</td>\n      <td>1629</td>\n      <td>5</td>\n      <td>2.5</td>\n      <td>2.466992</td>\n    </tr>\n    <tr>\n      <th>4</th>\n      <td>0.986797</td>\n      <td>1629</td>\n      <td>6</td>\n      <td>3.5</td>\n      <td>3.453789</td>\n    </tr>\n  </tbody>\n</table>\n</div>",
                        "text/plain": "   similarityIndex  userId  movieId  rating  weightedRating\n0         0.986797    1629        1     4.5        4.440586\n1         0.986797    1629        2     2.5        2.466992\n2         0.986797    1629        3     2.5        2.466992\n3         0.986797    1629        5     2.5        2.466992\n4         0.986797    1629        6     3.5        3.453789"
                    },
                    "execution_count": 23,
                    "metadata": {},
                    "output_type": "execute_result"
                }
            ],
            "source": "#Multiplies the similarity by the user's ratings\ntop_rat['weightedRating'] = top_rat['similarityIndex']*top_rat['rating']\ntop_rat.head()"
        },
        {
            "cell_type": "code",
            "execution_count": 24,
            "metadata": {
                "button": false,
                "new_sheet": false,
                "run_control": {
                    "read_only": false
                }
            },
            "outputs": [
                {
                    "data": {
                        "text/html": "<div>\n<style scoped>\n    .dataframe tbody tr th:only-of-type {\n        vertical-align: middle;\n    }\n\n    .dataframe tbody tr th {\n        vertical-align: top;\n    }\n\n    .dataframe thead th {\n        text-align: right;\n    }\n</style>\n<table border=\"1\" class=\"dataframe\">\n  <thead>\n    <tr style=\"text-align: right;\">\n      <th></th>\n      <th>sum_similarityIndex</th>\n      <th>sum_weightedRating</th>\n    </tr>\n    <tr>\n      <th>movieId</th>\n      <th></th>\n      <th></th>\n    </tr>\n  </thead>\n  <tbody>\n    <tr>\n      <th>1</th>\n      <td>41.944079</td>\n      <td>170.998880</td>\n    </tr>\n    <tr>\n      <th>2</th>\n      <td>41.944079</td>\n      <td>113.015682</td>\n    </tr>\n    <tr>\n      <th>3</th>\n      <td>13.120170</td>\n      <td>34.592224</td>\n    </tr>\n    <tr>\n      <th>4</th>\n      <td>4.262199</td>\n      <td>11.028845</td>\n    </tr>\n    <tr>\n      <th>5</th>\n      <td>14.705382</td>\n      <td>39.584802</td>\n    </tr>\n  </tbody>\n</table>\n</div>",
                        "text/plain": "         sum_similarityIndex  sum_weightedRating\nmovieId                                         \n1                  41.944079          170.998880\n2                  41.944079          113.015682\n3                  13.120170           34.592224\n4                   4.262199           11.028845\n5                  14.705382           39.584802"
                    },
                    "execution_count": 24,
                    "metadata": {},
                    "output_type": "execute_result"
                }
            ],
            "source": "#Applies a sum to the topUsers after grouping it up by userId\ntemptop_rat = top_rat.groupby('movieId').sum()[['similarityIndex','weightedRating']]\ntemptop_rat.columns = ['sum_similarityIndex','sum_weightedRating']\ntemptop_rat.head()"
        },
        {
            "cell_type": "code",
            "execution_count": 25,
            "metadata": {
                "button": false,
                "new_sheet": false,
                "run_control": {
                    "read_only": false
                }
            },
            "outputs": [
                {
                    "data": {
                        "text/html": "<div>\n<style scoped>\n    .dataframe tbody tr th:only-of-type {\n        vertical-align: middle;\n    }\n\n    .dataframe tbody tr th {\n        vertical-align: top;\n    }\n\n    .dataframe thead th {\n        text-align: right;\n    }\n</style>\n<table border=\"1\" class=\"dataframe\">\n  <thead>\n    <tr style=\"text-align: right;\">\n      <th></th>\n      <th>weighted average recommendation score</th>\n      <th>movieId</th>\n    </tr>\n    <tr>\n      <th>movieId</th>\n      <th></th>\n      <th></th>\n    </tr>\n  </thead>\n  <tbody>\n    <tr>\n      <th>1</th>\n      <td>4.076830</td>\n      <td>1</td>\n    </tr>\n    <tr>\n      <th>2</th>\n      <td>2.694437</td>\n      <td>2</td>\n    </tr>\n    <tr>\n      <th>3</th>\n      <td>2.636568</td>\n      <td>3</td>\n    </tr>\n    <tr>\n      <th>4</th>\n      <td>2.587595</td>\n      <td>4</td>\n    </tr>\n    <tr>\n      <th>5</th>\n      <td>2.691858</td>\n      <td>5</td>\n    </tr>\n  </tbody>\n</table>\n</div>",
                        "text/plain": "         weighted average recommendation score  movieId\nmovieId                                                \n1                                     4.076830        1\n2                                     2.694437        2\n3                                     2.636568        3\n4                                     2.587595        4\n5                                     2.691858        5"
                    },
                    "execution_count": 25,
                    "metadata": {},
                    "output_type": "execute_result"
                }
            ],
            "source": "#Creates an empty df\nrec_df = pd.DataFrame()\n#Now we take the weighted average\nrec_df['weighted average recommendation score'] = temptop_rat['sum_weightedRating']/temptop_rat['sum_similarityIndex']\nrec_df['movieId'] = temptop_rat.index\nrec_df.head()"
        },
        {
            "cell_type": "code",
            "execution_count": 26,
            "metadata": {
                "button": false,
                "new_sheet": false,
                "run_control": {
                    "read_only": false
                }
            },
            "outputs": [
                {
                    "data": {
                        "text/html": "<div>\n<style scoped>\n    .dataframe tbody tr th:only-of-type {\n        vertical-align: middle;\n    }\n\n    .dataframe tbody tr th {\n        vertical-align: top;\n    }\n\n    .dataframe thead th {\n        text-align: right;\n    }\n</style>\n<table border=\"1\" class=\"dataframe\">\n  <thead>\n    <tr style=\"text-align: right;\">\n      <th></th>\n      <th>weighted average recommendation score</th>\n      <th>movieId</th>\n    </tr>\n    <tr>\n      <th>movieId</th>\n      <th></th>\n      <th></th>\n    </tr>\n  </thead>\n  <tbody>\n    <tr>\n      <th>7091</th>\n      <td>5.0</td>\n      <td>7091</td>\n    </tr>\n    <tr>\n      <th>6286</th>\n      <td>5.0</td>\n      <td>6286</td>\n    </tr>\n    <tr>\n      <th>5747</th>\n      <td>5.0</td>\n      <td>5747</td>\n    </tr>\n    <tr>\n      <th>363</th>\n      <td>5.0</td>\n      <td>363</td>\n    </tr>\n    <tr>\n      <th>26524</th>\n      <td>5.0</td>\n      <td>26524</td>\n    </tr>\n    <tr>\n      <th>6509</th>\n      <td>5.0</td>\n      <td>6509</td>\n    </tr>\n    <tr>\n      <th>58627</th>\n      <td>5.0</td>\n      <td>58627</td>\n    </tr>\n    <tr>\n      <th>26788</th>\n      <td>5.0</td>\n      <td>26788</td>\n    </tr>\n    <tr>\n      <th>6434</th>\n      <td>5.0</td>\n      <td>6434</td>\n    </tr>\n    <tr>\n      <th>6368</th>\n      <td>5.0</td>\n      <td>6368</td>\n    </tr>\n  </tbody>\n</table>\n</div>",
                        "text/plain": "         weighted average recommendation score  movieId\nmovieId                                                \n7091                                       5.0     7091\n6286                                       5.0     6286\n5747                                       5.0     5747\n363                                        5.0      363\n26524                                      5.0    26524\n6509                                       5.0     6509\n58627                                      5.0    58627\n26788                                      5.0    26788\n6434                                       5.0     6434\n6368                                       5.0     6368"
                    },
                    "execution_count": 26,
                    "metadata": {},
                    "output_type": "execute_result"
                }
            ],
            "source": "#Top 10 movies that the algorithm recommended\nrec_df = rec_df.sort_values(by='weighted average recommendation score', ascending=False)\nrec_df.head(10)"
        },
        {
            "cell_type": "code",
            "execution_count": 27,
            "metadata": {
                "button": false,
                "new_sheet": false,
                "run_control": {
                    "read_only": false
                },
                "scrolled": true
            },
            "outputs": [
                {
                    "data": {
                        "text/html": "<div>\n<style scoped>\n    .dataframe tbody tr th:only-of-type {\n        vertical-align: middle;\n    }\n\n    .dataframe tbody tr th {\n        vertical-align: top;\n    }\n\n    .dataframe thead th {\n        text-align: right;\n    }\n</style>\n<table border=\"1\" class=\"dataframe\">\n  <thead>\n    <tr style=\"text-align: right;\">\n      <th></th>\n      <th>movieId</th>\n      <th>title</th>\n      <th>year</th>\n    </tr>\n  </thead>\n  <tbody>\n    <tr>\n      <th>359</th>\n      <td>363</td>\n      <td>Wonderful, Horrible Life of Leni Riefenstahl, ...</td>\n      <td>1993</td>\n    </tr>\n    <tr>\n      <th>5649</th>\n      <td>5747</td>\n      <td>Gallipoli</td>\n      <td>1981</td>\n    </tr>\n    <tr>\n      <th>6188</th>\n      <td>6286</td>\n      <td>Man Without a Past, The (Mies vailla menneisyy...</td>\n      <td>2002</td>\n    </tr>\n    <tr>\n      <th>6264</th>\n      <td>6368</td>\n      <td>Cinemania</td>\n      <td>2002</td>\n    </tr>\n    <tr>\n      <th>6326</th>\n      <td>6434</td>\n      <td>Objective, Burma!</td>\n      <td>1945</td>\n    </tr>\n    <tr>\n      <th>6400</th>\n      <td>6509</td>\n      <td>Ali: Fear Eats the Soul (Angst essen Seele auf)</td>\n      <td>1974</td>\n    </tr>\n    <tr>\n      <th>6980</th>\n      <td>7091</td>\n      <td>Horse Feathers</td>\n      <td>1932</td>\n    </tr>\n    <tr>\n      <th>8902</th>\n      <td>26524</td>\n      <td>Times of Harvey Milk, The</td>\n      <td>1984</td>\n    </tr>\n    <tr>\n      <th>9058</th>\n      <td>26788</td>\n      <td>Story of Qiu Ju, The (Qiu Ju da guan si)</td>\n      <td>1992</td>\n    </tr>\n    <tr>\n      <th>12549</th>\n      <td>58627</td>\n      <td>Never Back Down</td>\n      <td>2008</td>\n    </tr>\n  </tbody>\n</table>\n</div>",
                        "text/plain": "       movieId                                              title  year\n359        363  Wonderful, Horrible Life of Leni Riefenstahl, ...  1993\n5649      5747                                          Gallipoli  1981\n6188      6286  Man Without a Past, The (Mies vailla menneisyy...  2002\n6264      6368                                          Cinemania  2002\n6326      6434                                  Objective, Burma!  1945\n6400      6509    Ali: Fear Eats the Soul (Angst essen Seele auf)  1974\n6980      7091                                     Horse Feathers  1932\n8902     26524                          Times of Harvey Milk, The  1984\n9058     26788           Story of Qiu Ju, The (Qiu Ju da guan si)  1992\n12549    58627                                    Never Back Down  2008"
                    },
                    "execution_count": 27,
                    "metadata": {},
                    "output_type": "execute_result"
                }
            ],
            "source": "movdf.loc[movdf['movieId'].isin(rec_df.head(10)['movieId'].tolist())]"
        },
        {
            "cell_type": "markdown",
            "metadata": {},
            "source": "### The table above provides the top 10 movies to be recommended."
        }
    ],
    "metadata": {
        "kernelspec": {
            "display_name": "Python 3.8",
            "language": "python",
            "name": "python3"
        },
        "language_info": {
            "codemirror_mode": {
                "name": "ipython",
                "version": 3
            },
            "file_extension": ".py",
            "mimetype": "text/x-python",
            "name": "python",
            "nbconvert_exporter": "python",
            "pygments_lexer": "ipython3",
            "version": "3.8.11"
        },
        "widgets": {
            "state": {},
            "version": "1.1.2"
        }
    },
    "nbformat": 4,
    "nbformat_minor": 4
}